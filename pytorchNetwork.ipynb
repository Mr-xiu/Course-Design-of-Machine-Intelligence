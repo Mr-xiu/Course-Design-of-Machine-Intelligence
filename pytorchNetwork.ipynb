{
 "cells": [
  {
   "cell_type": "code",
   "execution_count": null,
   "id": "ce8147b1",
   "metadata": {},
   "outputs": [],
   "source": [
    "# torchvision 是图像处理的包，transforms是其中的一个类\n",
    "# 神经网络的激活函数再troch.nn.functional 中\n",
    "# torch中的optim是优化器\n",
    "from torchvision import transforms\n",
    "import numpy as np\n",
    "import torch\n",
    "import torchvision\n",
    "import torch.nn.functional as F\n",
    "from torch import nn\n",
    "from torch import optim\n",
    "from PIL import Image\n",
    "import matplotlib.pyplot as plt\n",
    "from time import sleep\n",
    "\n",
    "plt.rcParams['font.sans-serif']=['simhei']   #用于正常显示中文标签\n",
    "plt.rcParams['axes.unicode_minus']=False     #用于正常显示负号"
   ]
  },
  {
   "cell_type": "markdown",
   "id": "10cf18c1",
   "metadata": {},
   "source": [
    "将Mnist数据集加载到内存中,使用分批训练"
   ]
  },
  {
   "cell_type": "code",
   "execution_count": null,
   "id": "b2fdeb9b",
   "metadata": {},
   "outputs": [],
   "source": [
    "train_batch_size=64\n",
    "test_batch_size=1000\n",
    "img_size=28\n",
    "\n",
    "# assert 是设置的检查点，判断是否输入有异常\n",
    "def get_dataloader(train=True):\n",
    "    assert isinstance(train,bool)\n",
    "    # 准备数据集，其中0.1307，0.3081为MNIST数据集的均值和标准差，这样操作能够对其进行标准化\n",
    "    # 因为MNIST只有一个通道（黑白），所以元组中只有一个值\n",
    "    dataset=torchvision.datasets.MNIST('/data',train=train,download=True,\\\n",
    "        transform=torchvision.transforms.Compose([torchvision.transforms.ToTensor(),\\\n",
    "        torchvision.transforms.Normalize((0.1307,),(0.3081,)),]))\n",
    "    # 准备数据迭代器\n",
    "    batch_size=train_batch_size if train else test_batch_size\n",
    "    dataloader=torch.utils.data.DataLoader(dataset,batch_size=batch_size,shuffle=True)\n",
    "    return dataloader"
   ]
  },
  {
   "cell_type": "code",
   "execution_count": null,
   "id": "67be6820",
   "metadata": {},
   "outputs": [],
   "source": [
    "class Evaluator:\n",
    "    # resultList为传入的分类结果列表，每一行代表不同的类，第0列代表正确分类的个数(TP)，第一列代表被分为该类的样本总数，第二列代表应分为该类的样本数\n",
    "\n",
    "    def __init__(self)->None:\n",
    "        self.ClassResult={i:[] for i in range(10)}\n",
    "        self.MacroAvg=[]\n",
    "        self.MicroAvg=[]\n",
    "        return \n",
    "\n",
    "    def addTrainResult(self,resultList,sampleSize) -> None:\n",
    "        TP = [data[0] for data in resultList]  # 初始化TP列表\n",
    "        FN = [data[2]-data[0] for data in resultList]  # 初始化FN列表\n",
    "        FP = [data[1]-data[0] for data in resultList]  # 初始化FP列表\n",
    "        TN = [sampleSize-data[2]+data[0]-data[1] for data in resultList]  # 初始化TN列表\n",
    "        Accuracy = [(tp+tn)/sampleSize for tp,tn in zip(TP,TN)]  # 初始化正确率\n",
    "        Precision = [tp/(tp+fp) for tp,fp in zip(TP,FP)]  # 初始化准确率\n",
    "        Recall = [tp/(tp+fn) for tp,fn in zip(TP,FN)]  # 初始化召回率\n",
    "        F_score = [2*p*r/(p+r) for p,r in zip(Precision,Recall)]  # 初始化F值\n",
    "        t=self.getClassResult(Accuracy,Precision,Recall,F_score)\n",
    "        for i in range(10):\n",
    "            self.ClassResult[i].append(t[i])\n",
    "        self.MacroAvg.append(self.getMacroAvg(Accuracy,Precision,Recall,F_score))\n",
    "        self.MicroAvg.append(self.getMicroAvg(TP,FP,TN,FN,sampleSize))\n",
    "        \n",
    "    # 获取小类的识别率\n",
    "    # 第0列为正确率 第1列为准确率 第2列为召回率 第3列为F值\n",
    "    def getClassResult(self,Accuracy,Precision,Recall,F_score):\n",
    "        return [[a,f,r,p] for a,f,r,p in zip(Accuracy,Precision,Recall,F_score)]\n",
    "\n",
    "    # 获取宏平均 先计算各个小类的指标，再计算平均值\n",
    "    # 列表的0 1 2 3分别为正确率、准确率、召回率、F值\n",
    "    def getMacroAvg(self,Accuracy,Precision,Recall,F_score):\n",
    "        averageAccuracy = sum(Accuracy)/len(Accuracy)\n",
    "        averagePrecision = sum(Precision)/len(Precision)\n",
    "        averageRecall = sum(Recall)/len(Recall)\n",
    "        averageF_score = sum(F_score)/len(F_score)\n",
    "        return [averageAccuracy,averagePrecision,averageRecall,averageF_score]\n",
    "    \n",
    "    # 获取微平均 先计算TP, FP, TN, FN的平均值，再计算指标\n",
    "    # 列表的0 1 2 3分别为正确率、准确率、召回率、F值\n",
    "    def getMicroAvg(self,TP,FP,TN,FN,sampleSize):\n",
    "        averageTP = sum(TP)/len(TP)\n",
    "        averageFP = sum(FP)/len(FP)\n",
    "        averageTN = sum(TN)/len(TN)\n",
    "        averageFN = sum(FN)/len(FN)\n",
    "        averageAccuracy = (averageTP+averageTN)/sampleSize\n",
    "        averagePrecision = averageTP/(averageTP+averageFP)\n",
    "        averageRecall = averageTP/(averageTP+averageFN)\n",
    "        averageF_score = 2*averagePrecision*averageRecall/(averagePrecision+averageRecall)\n",
    "        return [averageAccuracy,averagePrecision,averageRecall,averageF_score]\n",
    "\n",
    "    def plotVisual(self,col0,col1,col2,col3,title)->None:\n",
    "        times=len(col0)\n",
    "        x=[i for i in range(1,times+1)]\n",
    "        fig,ax=plt.subplots()\n",
    "        ax.set_xlabel('训练的次数')\n",
    "        ax.set_xticks(range(1,times+1))\n",
    "        ax.plot(x,col0,label='正确率')\n",
    "        ax.plot(x,col1,label='准确率')\n",
    "        ax.plot(x,col2,label='召回率')\n",
    "        ax.plot(x,col3,label='F值')\n",
    "        ax.set_title(title)\n",
    "        ax.legend(); \n",
    "        return \n",
    "\n",
    "    def visual(self)->None:\n",
    "        # 宏平均可视化\n",
    "        self.plotVisual([i[0] for i in self.MacroAvg],[i[1] for i in self.MacroAvg],\\\n",
    "            [i[2] for i in self.MacroAvg],[i[3] for i in self.MacroAvg],'宏平均可视化')\n",
    "\n",
    "        # 微平均可视化\n",
    "        self.plotVisual([i[0] for i in self.MicroAvg],[i[1] for i in self.MicroAvg],\\\n",
    "            [i[2] for i in self.MicroAvg],[i[3] for i in self.MicroAvg],'微平均可视化')\n",
    "\n",
    "        # 小类可视化\n",
    "        for num in range(10):\n",
    "            self.plotVisual([i[0] for i in self.ClassResult[num]],[i[1] for i in self.ClassResult[num]],\\\n",
    "            [i[2] for i in self.ClassResult[num]],[i[3] for i in self.ClassResult[num]],'{}的可视化'.format(num))\n",
    "\n",
    "        return"
   ]
  },
  {
   "cell_type": "markdown",
   "id": "969949a8",
   "metadata": {},
   "source": [
    "搭建全连接神经网络  \n",
    "\n",
    "输入数据的形状:[batch_size,28*28]\n",
    "\n",
    "输出的神经元是10个\n",
    "\n",
    "使用反向传播算法进行优化\n",
    "\n",
    "<p>训练的流程：<br>\n",
    "    1、实例化的模型，设置模型为训练模式<br>\n",
    "    2、实例化优化器类，实例化损失函数<br>\n",
    "    3、获取，遍历dataloader<br>\n",
    "    4、梯度置为0<br>\n",
    "    5、进行向前计算<br>\n",
    "    6、计算损失<br>\n",
    "    7、反向传播<br>\n",
    "    8、更新参数</p>"
   ]
  },
  {
   "cell_type": "code",
   "execution_count": null,
   "id": "2991ac0b",
   "metadata": {},
   "outputs": [],
   "source": [
    "class MnistNet(torch.nn.Module):\n",
    "    def __init__(self):\n",
    "        super(MnistNet,self).__init__()\n",
    "        self.fc1=torch.nn.Linear(28*28,28)\n",
    "        self.fc2=torch.nn.Linear(28,10)\n",
    "        self.evalue=Evaluator()\n",
    "    \n",
    "    def forward(self,x):\n",
    "        x=x.view(-1,28*28)\n",
    "        x=self.fc1(x)\n",
    "        x=F.relu(x)\n",
    "        x=self.fc2(x)\n",
    "        # out=F.log_softmax(x,dim=-1)\n",
    "        return F.log_softmax(x,dim=-1)"
   ]
  },
  {
   "cell_type": "code",
   "execution_count": null,
   "id": "876bb56e",
   "metadata": {
    "scrolled": false
   },
   "outputs": [],
   "source": [
    "mnist_net=MnistNet() # 实例化模型\n",
    "optimizer=torch.optim.Adam(mnist_net.parameters(),lr=0.001) # 优化器\n",
    "train_loss_list=[]\n",
    "train_count_list=[]\n",
    "\n",
    "# epoch表示训练的次数\n",
    "def train(epoch):\n",
    "    print(\"第{}次训练开始. . . .\".format(epoch))\n",
    "    mnist_net.train(True)\n",
    "    train_dataloader=get_dataloader(True)# 获取训练数据\n",
    "    cnt=[[0]*3 for i in range(10)]\n",
    "    datasize=0\n",
    "    rightcnt=0\n",
    "    for index,(data,target) in enumerate(train_dataloader):\n",
    "        optimizer.zero_grad()# 将梯度进行置0\n",
    "        output=mnist_net.forward(data)\n",
    "\n",
    "        # 统计预测的结果\n",
    "        pred=output.data.max(1,keepdim=True)[1]\n",
    "        datasize+=len(target)\n",
    "        for i in range(len(target)):\n",
    "            # 第0列是正确分类为该数字的个数  cnt0\n",
    "            # 1列是分类为改数字的总个数      cnt1\n",
    "            # 2列是应该分类为改数字的个数    cnt2\n",
    "            cnt[int(pred[i][0])][1]+=1\n",
    "            cnt[int(target[i])][2]+=1\n",
    "            if pred[i][0]==target[i]:\n",
    "                cnt[int(pred[i][0])][0]+=1\n",
    "                rightcnt+=1\n",
    "\n",
    "        loss=F.nll_loss(output,target)\n",
    "        loss.backward()\n",
    "        optimizer.step()\n",
    "    \n",
    "    mnist_net.evalue.addTrainResult(cnt,datasize)\n",
    "    print(\"-----------------------第{}次训练结束, 正确率是 {}  \".format(epoch,round(rightcnt/datasize,4)))\n",
    "    print(rightcnt,datasize)\n",
    "    sleep(0.5)"
   ]
  },
  {
   "cell_type": "code",
   "execution_count": null,
   "id": "aa5663d1",
   "metadata": {
    "scrolled": false
   },
   "outputs": [],
   "source": [
    "epoch=20\n",
    "for i in range(epoch):\n",
    "    train(i+1)\n",
    "mnist_net.evalue.visual()"
   ]
  },
  {
   "cell_type": "markdown",
   "id": "71746bb8",
   "metadata": {},
   "source": [
    "评估结果\n",
    "\n",
    "<p>评估和训练很相似，但是不需要计算梯度，需要收集损失和准确率，计算平均损失和平均准确率，损失的计算和训练的损失计算方法相同</p>"
   ]
  },
  {
   "cell_type": "code",
   "execution_count": 85,
   "id": "68b42eff",
   "metadata": {},
   "outputs": [],
   "source": [
    "def plotVisual2(y:list,title:str)->None:\n",
    "    fig,ax=plt.subplots()\n",
    "    ax.set_xticks(range(0,10))\n",
    "    ax.set_title(title)\n",
    "    ax.set_ylim(0.85,1.00)\n",
    "    ax.bar([i for i in range(10)],y)\n",
    "    return \n",
    "\n",
    "def test():\n",
    "    test_loss=0\n",
    "    correct=0\n",
    "    mnist_net.eval()\n",
    "    test_dataloader=get_dataloader(train=False)\n",
    "    \n",
    "    result=Evaluator()\n",
    "    cnt=[[0]*3 for i in range(10)]\n",
    "    datasize=0\n",
    "\n",
    "    with torch.no_grad():\n",
    "        for data,target in test_dataloader:\n",
    "            output=mnist_net(data)\n",
    "            test_loss+=F.nll_loss(output,target,reduction='sum').item()\n",
    "            pred=output.data.max(1,keepdim=True)[1]\n",
    "\n",
    "            # 统计结果\n",
    "            datasize+=len(target)\n",
    "            for i in range(len(target)):\n",
    "                # 第0列是正确分类为该数字的个数  cnt0\n",
    "                # 1列是分类为改数字的总个数      cnt1\n",
    "                # 2列是应该分类为改数字的个数    cnt2\n",
    "                cnt[int(pred[i][0])][1]+=1\n",
    "                cnt[int(target[i])][2]+=1\n",
    "                if pred[i][0]==target[i]:\n",
    "                    cnt[int(pred[i][0])][0]+=1\n",
    "            \n",
    "            correct+=pred.eq(target.data.view_as(pred)).sum()\n",
    "    test_loss/=len(test_dataloader.dataset)\n",
    "    print('\\n损失函数总和: {:.4f}, 正确率: {}/{} ({:.2f}%)\\n'.format(\n",
    "        test_loss, correct, len(test_dataloader.dataset),\n",
    "        100. * correct / len(test_dataloader.dataset)))\n",
    "    \n",
    "    # 打印测试结果\n",
    "    result.addTrainResult(cnt,datasize)\n",
    "    macro=result.MacroAvg[0]\n",
    "    micro=result.MicroAvg[0]\n",
    "    # 宏平均\n",
    "    print('宏平均:\\n')\n",
    "    print('--------正确率:{}\\n'.format(macro[0]))\n",
    "    print('--------准确率:{}\\n'.format(macro[1]))\n",
    "    print('--------召回率:{}\\n'.format(macro[2]))\n",
    "    print('-------- F值  :{}\\n'.format(macro[3]))\n",
    "\n",
    "    # 微平均\n",
    "    print('微平均:\\n')\n",
    "    print('--------正确率:{}\\n'.format(micro[0]))\n",
    "    print('--------准确率:{}\\n'.format(micro[1]))\n",
    "    print('--------召回率:{}\\n'.format(micro[2]))\n",
    "    print('-------- F值  :{}\\n'.format(micro[3]))\n",
    "    \n",
    "    cols=[[result.ClassResult[i][0][0] for i in range(0,10)],\n",
    "        [result.ClassResult[i][0][1] for i in range(0,10)],\n",
    "        [result.ClassResult[i][0][2] for i in range(0,10)],\n",
    "        [result.ClassResult[i][0][3] for i in range(0,10)]]\n",
    "    titles=['正确率','准确率','召回率','F值']\n",
    "    for y,title in zip(cols,titles):\n",
    "        plotVisual2(y,title)\n",
    "    \n",
    "    return "
   ]
  },
  {
   "cell_type": "code",
   "execution_count": 86,
   "id": "008ba16e",
   "metadata": {},
   "outputs": [
    {
     "name": "stdout",
     "output_type": "stream",
     "text": [
      "\n",
      "损失函数总和: 0.2093, 正确率: 9375/10000 (93.75%)\n",
      "\n",
      "宏平均:\n",
      "\n",
      "--------正确率:0.9875\n",
      "\n",
      "--------准确率:0.9375797044005235\n",
      "\n",
      "--------召回率:0.9364665421690803\n",
      "\n",
      "-------- F值  :0.9366686757833407\n",
      "\n",
      "微平均:\n",
      "\n",
      "--------正确率:0.9875\n",
      "\n",
      "--------准确率:0.9375\n",
      "\n",
      "--------召回率:0.9375\n",
      "\n",
      "-------- F值  :0.9375\n",
      "\n"
     ]
    },
    {
     "data": {
      "image/png": "[encoded data removed]",
      "text/plain": [
       "<Figure size 432x288 with 1 Axes>"
      ]
     },
     "metadata": {
      "needs_background": "light"
     },
     "output_type": "display_data"
    },
    {
     "data": {
      "image/png": "[encoded data removed]",
      "text/plain": [
       "<Figure size 432x288 with 1 Axes>"
      ]
     },
     "metadata": {
      "needs_background": "light"
     },
     "output_type": "display_data"
    },
    {
     "data": {
      "image/png": "[encoded data removed]",
      "text/plain": [
       "<Figure size 432x288 with 1 Axes>"
      ]
     },
     "metadata": {
      "needs_background": "light"
     },
     "output_type": "display_data"
    },
    {
     "data": {
      "image/png": "[encoded data removed]",
      "text/plain": [
       "<Figure size 432x288 with 1 Axes>"
      ]
     },
     "metadata": {
      "needs_background": "light"
     },
     "output_type": "display_data"
    }
   ],
   "source": [
    "test()"
   ]
  }
 ],
 "metadata": {
  "kernelspec": {
   "display_name": "Python 3.9.13 64-bit (microsoft store)",
   "language": "python",
   "name": "python3"
  },
  "language_info": {
   "codemirror_mode": {
    "name": "ipython",
    "version": 3
   },
   "file_extension": ".py",
   "mimetype": "text/x-python",
   "name": "python",
   "nbconvert_exporter": "python",
   "pygments_lexer": "ipython3",
   "version": "3.9.13"
  },
  "vscode": {
   "interpreter": {
    "hash": "970a2a4939579a4c22872227820a264ec023ee5692739211cbaca24386397975"
   }
  }
 },
 "nbformat": 4,
 "nbformat_minor": 5
}
